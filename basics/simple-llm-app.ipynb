{
 "cells": [
  {
   "cell_type": "code",
   "id": "initial_id",
   "metadata": {
    "collapsed": true,
    "ExecuteTime": {
     "end_time": "2024-11-10T04:16:16.368196Z",
     "start_time": "2024-11-10T04:16:15.704401Z"
    }
   },
   "source": "!pip  install langchain langchain-openai python-dotenv",
   "outputs": [
    {
     "name": "stdout",
     "output_type": "stream",
     "text": [
      "Requirement already satisfied: langchain in /home/harsha/developerworks/sandbox/langchain/langchain-tutorials/venv/lib/python3.12/site-packages (0.3.7)\r\n",
      "Requirement already satisfied: langchain-openai in /home/harsha/developerworks/sandbox/langchain/langchain-tutorials/venv/lib/python3.12/site-packages (0.2.6)\r\n",
      "Requirement already satisfied: python-dotenv in /home/harsha/developerworks/sandbox/langchain/langchain-tutorials/venv/lib/python3.12/site-packages (1.0.1)\r\n",
      "Requirement already satisfied: PyYAML>=5.3 in /home/harsha/developerworks/sandbox/langchain/langchain-tutorials/venv/lib64/python3.12/site-packages (from langchain) (6.0.2)\r\n",
      "Requirement already satisfied: SQLAlchemy<3,>=1.4 in /home/harsha/developerworks/sandbox/langchain/langchain-tutorials/venv/lib64/python3.12/site-packages (from langchain) (2.0.36)\r\n",
      "Requirement already satisfied: aiohttp<4.0.0,>=3.8.3 in /home/harsha/developerworks/sandbox/langchain/langchain-tutorials/venv/lib64/python3.12/site-packages (from langchain) (3.10.10)\r\n",
      "Requirement already satisfied: langchain-core<0.4.0,>=0.3.15 in /home/harsha/developerworks/sandbox/langchain/langchain-tutorials/venv/lib/python3.12/site-packages (from langchain) (0.3.15)\r\n",
      "Requirement already satisfied: langchain-text-splitters<0.4.0,>=0.3.0 in /home/harsha/developerworks/sandbox/langchain/langchain-tutorials/venv/lib/python3.12/site-packages (from langchain) (0.3.2)\r\n",
      "Requirement already satisfied: langsmith<0.2.0,>=0.1.17 in /home/harsha/developerworks/sandbox/langchain/langchain-tutorials/venv/lib/python3.12/site-packages (from langchain) (0.1.142)\r\n",
      "Requirement already satisfied: numpy<2.0.0,>=1.26.0 in /home/harsha/developerworks/sandbox/langchain/langchain-tutorials/venv/lib64/python3.12/site-packages (from langchain) (1.26.4)\r\n",
      "Requirement already satisfied: pydantic<3.0.0,>=2.7.4 in /home/harsha/developerworks/sandbox/langchain/langchain-tutorials/venv/lib/python3.12/site-packages (from langchain) (2.9.2)\r\n",
      "Requirement already satisfied: requests<3,>=2 in /home/harsha/developerworks/sandbox/langchain/langchain-tutorials/venv/lib/python3.12/site-packages (from langchain) (2.32.3)\r\n",
      "Requirement already satisfied: tenacity!=8.4.0,<10,>=8.1.0 in /home/harsha/developerworks/sandbox/langchain/langchain-tutorials/venv/lib/python3.12/site-packages (from langchain) (9.0.0)\r\n",
      "Requirement already satisfied: openai<2.0.0,>=1.54.0 in /home/harsha/developerworks/sandbox/langchain/langchain-tutorials/venv/lib/python3.12/site-packages (from langchain-openai) (1.54.3)\r\n",
      "Requirement already satisfied: tiktoken<1,>=0.7 in /home/harsha/developerworks/sandbox/langchain/langchain-tutorials/venv/lib64/python3.12/site-packages (from langchain-openai) (0.8.0)\r\n",
      "Requirement already satisfied: aiohappyeyeballs>=2.3.0 in /home/harsha/developerworks/sandbox/langchain/langchain-tutorials/venv/lib/python3.12/site-packages (from aiohttp<4.0.0,>=3.8.3->langchain) (2.4.3)\r\n",
      "Requirement already satisfied: aiosignal>=1.1.2 in /home/harsha/developerworks/sandbox/langchain/langchain-tutorials/venv/lib/python3.12/site-packages (from aiohttp<4.0.0,>=3.8.3->langchain) (1.3.1)\r\n",
      "Requirement already satisfied: attrs>=17.3.0 in /home/harsha/developerworks/sandbox/langchain/langchain-tutorials/venv/lib/python3.12/site-packages (from aiohttp<4.0.0,>=3.8.3->langchain) (24.2.0)\r\n",
      "Requirement already satisfied: frozenlist>=1.1.1 in /home/harsha/developerworks/sandbox/langchain/langchain-tutorials/venv/lib64/python3.12/site-packages (from aiohttp<4.0.0,>=3.8.3->langchain) (1.5.0)\r\n",
      "Requirement already satisfied: multidict<7.0,>=4.5 in /home/harsha/developerworks/sandbox/langchain/langchain-tutorials/venv/lib64/python3.12/site-packages (from aiohttp<4.0.0,>=3.8.3->langchain) (6.1.0)\r\n",
      "Requirement already satisfied: yarl<2.0,>=1.12.0 in /home/harsha/developerworks/sandbox/langchain/langchain-tutorials/venv/lib64/python3.12/site-packages (from aiohttp<4.0.0,>=3.8.3->langchain) (1.17.1)\r\n",
      "Requirement already satisfied: jsonpatch<2.0,>=1.33 in /home/harsha/developerworks/sandbox/langchain/langchain-tutorials/venv/lib/python3.12/site-packages (from langchain-core<0.4.0,>=0.3.15->langchain) (1.33)\r\n",
      "Requirement already satisfied: packaging<25,>=23.2 in /home/harsha/developerworks/sandbox/langchain/langchain-tutorials/venv/lib/python3.12/site-packages (from langchain-core<0.4.0,>=0.3.15->langchain) (24.2)\r\n",
      "Requirement already satisfied: typing-extensions>=4.7 in /home/harsha/developerworks/sandbox/langchain/langchain-tutorials/venv/lib/python3.12/site-packages (from langchain-core<0.4.0,>=0.3.15->langchain) (4.12.2)\r\n",
      "Requirement already satisfied: httpx<1,>=0.23.0 in /home/harsha/developerworks/sandbox/langchain/langchain-tutorials/venv/lib/python3.12/site-packages (from langsmith<0.2.0,>=0.1.17->langchain) (0.27.2)\r\n",
      "Requirement already satisfied: orjson<4.0.0,>=3.9.14 in /home/harsha/developerworks/sandbox/langchain/langchain-tutorials/venv/lib64/python3.12/site-packages (from langsmith<0.2.0,>=0.1.17->langchain) (3.10.11)\r\n",
      "Requirement already satisfied: requests-toolbelt<2.0.0,>=1.0.0 in /home/harsha/developerworks/sandbox/langchain/langchain-tutorials/venv/lib/python3.12/site-packages (from langsmith<0.2.0,>=0.1.17->langchain) (1.0.0)\r\n",
      "Requirement already satisfied: anyio<5,>=3.5.0 in /home/harsha/developerworks/sandbox/langchain/langchain-tutorials/venv/lib/python3.12/site-packages (from openai<2.0.0,>=1.54.0->langchain-openai) (4.6.2.post1)\r\n",
      "Requirement already satisfied: distro<2,>=1.7.0 in /home/harsha/developerworks/sandbox/langchain/langchain-tutorials/venv/lib/python3.12/site-packages (from openai<2.0.0,>=1.54.0->langchain-openai) (1.9.0)\r\n",
      "Requirement already satisfied: jiter<1,>=0.4.0 in /home/harsha/developerworks/sandbox/langchain/langchain-tutorials/venv/lib64/python3.12/site-packages (from openai<2.0.0,>=1.54.0->langchain-openai) (0.7.0)\r\n",
      "Requirement already satisfied: sniffio in /home/harsha/developerworks/sandbox/langchain/langchain-tutorials/venv/lib/python3.12/site-packages (from openai<2.0.0,>=1.54.0->langchain-openai) (1.3.1)\r\n",
      "Requirement already satisfied: tqdm>4 in /home/harsha/developerworks/sandbox/langchain/langchain-tutorials/venv/lib/python3.12/site-packages (from openai<2.0.0,>=1.54.0->langchain-openai) (4.67.0)\r\n",
      "Requirement already satisfied: annotated-types>=0.6.0 in /home/harsha/developerworks/sandbox/langchain/langchain-tutorials/venv/lib/python3.12/site-packages (from pydantic<3.0.0,>=2.7.4->langchain) (0.7.0)\r\n",
      "Requirement already satisfied: pydantic-core==2.23.4 in /home/harsha/developerworks/sandbox/langchain/langchain-tutorials/venv/lib64/python3.12/site-packages (from pydantic<3.0.0,>=2.7.4->langchain) (2.23.4)\r\n",
      "Requirement already satisfied: charset-normalizer<4,>=2 in /home/harsha/developerworks/sandbox/langchain/langchain-tutorials/venv/lib64/python3.12/site-packages (from requests<3,>=2->langchain) (3.4.0)\r\n",
      "Requirement already satisfied: idna<4,>=2.5 in /home/harsha/developerworks/sandbox/langchain/langchain-tutorials/venv/lib/python3.12/site-packages (from requests<3,>=2->langchain) (3.10)\r\n",
      "Requirement already satisfied: urllib3<3,>=1.21.1 in /home/harsha/developerworks/sandbox/langchain/langchain-tutorials/venv/lib/python3.12/site-packages (from requests<3,>=2->langchain) (2.2.3)\r\n",
      "Requirement already satisfied: certifi>=2017.4.17 in /home/harsha/developerworks/sandbox/langchain/langchain-tutorials/venv/lib/python3.12/site-packages (from requests<3,>=2->langchain) (2024.8.30)\r\n",
      "Requirement already satisfied: greenlet!=0.4.17 in /home/harsha/developerworks/sandbox/langchain/langchain-tutorials/venv/lib64/python3.12/site-packages (from SQLAlchemy<3,>=1.4->langchain) (3.1.1)\r\n",
      "Requirement already satisfied: regex>=2022.1.18 in /home/harsha/developerworks/sandbox/langchain/langchain-tutorials/venv/lib64/python3.12/site-packages (from tiktoken<1,>=0.7->langchain-openai) (2024.11.6)\r\n",
      "Requirement already satisfied: httpcore==1.* in /home/harsha/developerworks/sandbox/langchain/langchain-tutorials/venv/lib/python3.12/site-packages (from httpx<1,>=0.23.0->langsmith<0.2.0,>=0.1.17->langchain) (1.0.6)\r\n",
      "Requirement already satisfied: h11<0.15,>=0.13 in /home/harsha/developerworks/sandbox/langchain/langchain-tutorials/venv/lib/python3.12/site-packages (from httpcore==1.*->httpx<1,>=0.23.0->langsmith<0.2.0,>=0.1.17->langchain) (0.14.0)\r\n",
      "Requirement already satisfied: jsonpointer>=1.9 in /home/harsha/developerworks/sandbox/langchain/langchain-tutorials/venv/lib/python3.12/site-packages (from jsonpatch<2.0,>=1.33->langchain-core<0.4.0,>=0.3.15->langchain) (3.0.0)\r\n",
      "Requirement already satisfied: propcache>=0.2.0 in /home/harsha/developerworks/sandbox/langchain/langchain-tutorials/venv/lib64/python3.12/site-packages (from yarl<2.0,>=1.12.0->aiohttp<4.0.0,>=3.8.3->langchain) (0.2.0)\r\n",
      "\r\n",
      "\u001B[1m[\u001B[0m\u001B[34;49mnotice\u001B[0m\u001B[1;39;49m]\u001B[0m\u001B[39;49m A new release of pip is available: \u001B[0m\u001B[31;49m24.2\u001B[0m\u001B[39;49m -> \u001B[0m\u001B[32;49m24.3.1\u001B[0m\r\n",
      "\u001B[1m[\u001B[0m\u001B[34;49mnotice\u001B[0m\u001B[1;39;49m]\u001B[0m\u001B[39;49m To update, run: \u001B[0m\u001B[32;49mpip install --upgrade pip\u001B[0m\r\n"
     ]
    }
   ],
   "execution_count": 60
  },
  {
   "metadata": {
    "ExecuteTime": {
     "end_time": "2024-11-10T04:16:16.377916Z",
     "start_time": "2024-11-10T04:16:16.372843Z"
    }
   },
   "cell_type": "code",
   "source": [
    "from dotenv import load_dotenv\n",
    "load_dotenv()"
   ],
   "id": "8ae4aa41a12baea2",
   "outputs": [
    {
     "data": {
      "text/plain": [
       "True"
      ]
     },
     "execution_count": 61,
     "metadata": {},
     "output_type": "execute_result"
    }
   ],
   "execution_count": 61
  },
  {
   "metadata": {
    "ExecuteTime": {
     "end_time": "2024-11-10T04:16:16.484893Z",
     "start_time": "2024-11-10T04:16:16.482695Z"
    }
   },
   "cell_type": "code",
   "source": "# setup lang smith\n",
   "id": "b88dddf55d2e3101",
   "outputs": [],
   "execution_count": 62
  },
  {
   "metadata": {
    "ExecuteTime": {
     "end_time": "2024-11-10T04:16:16.557013Z",
     "start_time": "2024-11-10T04:16:16.530062Z"
    }
   },
   "cell_type": "code",
   "source": [
    "# setup open ai client\n",
    "import os\n",
    "from langchain_openai import AzureChatOpenAI\n",
    "\n",
    "model = AzureChatOpenAI(\n",
    "    azure_endpoint=os.environ[\"AZURE_OPENAI_ENDPOINT\"],\n",
    "    azure_deployment=os.environ[\"AZURE_OPENAI_DEPLOYMENT\"],\n",
    "    openai_api_version=os.environ[\"AZURE_OPENAI_API_VERSION\"],\n",
    ")"
   ],
   "id": "33a6151bcfa1df52",
   "outputs": [],
   "execution_count": 63
  },
  {
   "metadata": {
    "ExecuteTime": {
     "end_time": "2024-11-10T04:16:16.584252Z",
     "start_time": "2024-11-10T04:16:16.581108Z"
    }
   },
   "cell_type": "code",
   "source": [
    "# implementing the bare-bones version\n",
    "\n",
    "from langchain_core.messages import HumanMessage, SystemMessage\n",
    "\n",
    "messages = [\n",
    "    SystemMessage(content=\"Translate following to italian\"),\n",
    "    HumanMessage(content=\"Hello, how are you?\")\n",
    "]\n",
    "messages"
   ],
   "id": "38dc806be567ed14",
   "outputs": [
    {
     "data": {
      "text/plain": [
       "[SystemMessage(content='Translate following to italian', additional_kwargs={}, response_metadata={}),\n",
       " HumanMessage(content='Hello, how are you?', additional_kwargs={}, response_metadata={})]"
      ]
     },
     "execution_count": 64,
     "metadata": {},
     "output_type": "execute_result"
    }
   ],
   "execution_count": 64
  },
  {
   "metadata": {
    "ExecuteTime": {
     "end_time": "2024-11-10T04:16:18.177259Z",
     "start_time": "2024-11-10T04:16:16.630347Z"
    }
   },
   "cell_type": "code",
   "source": [
    "result = model.invoke(messages)\n",
    "result"
   ],
   "id": "88f618f98252a546",
   "outputs": [
    {
     "data": {
      "text/plain": [
       "AIMessage(content='Ciao, come stai?', additional_kwargs={'refusal': None}, response_metadata={'token_usage': {'completion_tokens': 7, 'prompt_tokens': 23, 'total_tokens': 30, 'completion_tokens_details': None, 'prompt_tokens_details': None}, 'model_name': 'gpt-35-turbo', 'system_fingerprint': None, 'prompt_filter_results': [{'prompt_index': 0, 'content_filter_results': {}}], 'finish_reason': 'stop', 'logprobs': None, 'content_filter_results': {'hate': {'filtered': False, 'severity': 'safe'}, 'protected_material_code': {'filtered': False, 'detected': False}, 'protected_material_text': {'filtered': False, 'detected': False}, 'self_harm': {'filtered': False, 'severity': 'safe'}, 'sexual': {'filtered': False, 'severity': 'safe'}, 'violence': {'filtered': False, 'severity': 'safe'}}}, id='run-a2190c1f-8c22-433e-8143-ee54f365e133-0', usage_metadata={'input_tokens': 23, 'output_tokens': 7, 'total_tokens': 30, 'input_token_details': {}, 'output_token_details': {}})"
      ]
     },
     "execution_count": 65,
     "metadata": {},
     "output_type": "execute_result"
    }
   ],
   "execution_count": 65
  },
  {
   "metadata": {
    "ExecuteTime": {
     "end_time": "2024-11-10T04:16:18.262382Z",
     "start_time": "2024-11-10T04:16:18.257923Z"
    }
   },
   "cell_type": "code",
   "source": [
    "# Adding output parsers\n",
    "# Since the output is large and contains a lot of information that we do not want to see in the output, we can use output parsers to filter out and sse only the response.\n",
    "\n",
    "from langchain_core.output_parsers import StrOutputParser\n",
    "\n",
    "parser = StrOutputParser()\n",
    "parser.invoke(result)\n"
   ],
   "id": "2f0c7ca3d70d1d6e",
   "outputs": [
    {
     "data": {
      "text/plain": [
       "'Ciao, come stai?'"
      ]
     },
     "execution_count": 66,
     "metadata": {},
     "output_type": "execute_result"
    }
   ],
   "execution_count": 66
  },
  {
   "metadata": {
    "ExecuteTime": {
     "end_time": "2024-11-10T04:16:18.748030Z",
     "start_time": "2024-11-10T04:16:18.307662Z"
    }
   },
   "cell_type": "code",
   "source": [
    "# Chaining operations\n",
    "# since we have multiple operations performed we can create a pipeline of operations by chaining them together using '|' operator.\n",
    "\n",
    "chain = model | parser\n",
    "\n",
    "chain.invoke(messages)"
   ],
   "id": "6c6cc9ee3ac88127",
   "outputs": [
    {
     "data": {
      "text/plain": [
       "'Ciao, come stai?'"
      ]
     },
     "execution_count": 67,
     "metadata": {},
     "output_type": "execute_result"
    }
   ],
   "execution_count": 67
  },
  {
   "metadata": {
    "ExecuteTime": {
     "end_time": "2024-11-10T04:16:18.826540Z",
     "start_time": "2024-11-10T04:16:18.817447Z"
    }
   },
   "cell_type": "code",
   "source": [
    "# adding prompt templates\n",
    "# prompt templates are used to format user input to a specific template and insert system messages in parallel to process.\n",
    "\n",
    "from langchain_core.prompts import ChatPromptTemplate\n",
    "\n",
    "system_template = \"Translate following to {language}\"\n",
    "\n",
    "\n",
    "prompt_template = ChatPromptTemplate.from_messages(\n",
    "    [(\"system\", system_template), (\"user\", \"{text}\")]\n",
    ")\n",
    "template_result = prompt_template.invoke({\"language\": \"italian\", \"text\": \"Hello, how are you?\"})\n",
    "template_result"
   ],
   "id": "29b318ccfee7dbf1",
   "outputs": [
    {
     "data": {
      "text/plain": [
       "ChatPromptValue(messages=[SystemMessage(content='Translate following to italian', additional_kwargs={}, response_metadata={}), HumanMessage(content='Hello, how are you?', additional_kwargs={}, response_metadata={})])"
      ]
     },
     "execution_count": 68,
     "metadata": {},
     "output_type": "execute_result"
    }
   ],
   "execution_count": 68
  },
  {
   "metadata": {
    "ExecuteTime": {
     "end_time": "2024-11-10T04:16:18.946631Z",
     "start_time": "2024-11-10T04:16:18.938149Z"
    }
   },
   "cell_type": "code",
   "source": "template_result.to_messages()",
   "id": "e91ff9e6c7cf68b4",
   "outputs": [
    {
     "data": {
      "text/plain": [
       "[SystemMessage(content='Translate following to italian', additional_kwargs={}, response_metadata={}),\n",
       " HumanMessage(content='Hello, how are you?', additional_kwargs={}, response_metadata={})]"
      ]
     },
     "execution_count": 69,
     "metadata": {},
     "output_type": "execute_result"
    }
   ],
   "execution_count": 69
  },
  {
   "metadata": {
    "ExecuteTime": {
     "end_time": "2024-11-10T04:16:19.045927Z",
     "start_time": "2024-11-10T04:16:19.042031Z"
    }
   },
   "cell_type": "code",
   "source": [
    "# Improving the chain with prompt template\n",
    "\n",
    "chain = prompt_template | model | parser \n",
    "chain"
   ],
   "id": "c6becf83ca58d63f",
   "outputs": [
    {
     "data": {
      "text/plain": [
       "ChatPromptTemplate(input_variables=['language', 'text'], input_types={}, partial_variables={}, messages=[SystemMessagePromptTemplate(prompt=PromptTemplate(input_variables=['language'], input_types={}, partial_variables={}, template='Translate following to {language}'), additional_kwargs={}), HumanMessagePromptTemplate(prompt=PromptTemplate(input_variables=['text'], input_types={}, partial_variables={}, template='{text}'), additional_kwargs={})])\n",
       "| AzureChatOpenAI(client=<openai.resources.chat.completions.Completions object at 0x7f5576099760>, async_client=<openai.resources.chat.completions.AsyncCompletions object at 0x7f557609b1a0>, root_client=<openai.lib.azure.AzureOpenAI object at 0x7f557608f530>, root_async_client=<openai.lib.azure.AsyncAzureOpenAI object at 0x7f557609cce0>, model_kwargs={}, openai_api_key=SecretStr('**********'), disabled_params={'parallel_tool_calls': None}, azure_endpoint='https://airnd4944693893.cognitiveservices.azure.com/openai/deployments/gpt-35-turbo/chat/completions?api-version=2024-08-01-preview', deployment_name='airnd4944693893', openai_api_version='2024-08-01-preview', openai_api_type='azure')\n",
       "| StrOutputParser()"
      ]
     },
     "execution_count": 70,
     "metadata": {},
     "output_type": "execute_result"
    }
   ],
   "execution_count": 70
  },
  {
   "metadata": {
    "ExecuteTime": {
     "end_time": "2024-11-10T04:16:19.571348Z",
     "start_time": "2024-11-10T04:16:19.118498Z"
    }
   },
   "cell_type": "code",
   "source": [
    "\n",
    "chain.invoke({\"language\": \"italian\", \"text\": \"Hello, how are you?\"})"
   ],
   "id": "8cc591b23b8f77df",
   "outputs": [
    {
     "data": {
      "text/plain": [
       "'Ciao, come stai?'"
      ]
     },
     "execution_count": 71,
     "metadata": {},
     "output_type": "execute_result"
    }
   ],
   "execution_count": 71
  }
 ],
 "metadata": {
  "kernelspec": {
   "display_name": "Python 3",
   "language": "python",
   "name": "python3"
  },
  "language_info": {
   "codemirror_mode": {
    "name": "ipython",
    "version": 2
   },
   "file_extension": ".py",
   "mimetype": "text/x-python",
   "name": "python",
   "nbconvert_exporter": "python",
   "pygments_lexer": "ipython2",
   "version": "2.7.6"
  }
 },
 "nbformat": 4,
 "nbformat_minor": 5
}
